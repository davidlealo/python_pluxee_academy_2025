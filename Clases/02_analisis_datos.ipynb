{
  "cells": [
    {
      "cell_type": "markdown",
      "metadata": {
        "id": "view-in-github"
      },
      "source": [
        "<a href=\"https://colab.research.google.com/github/davidlealo/python_pluxee_academy_2025/blob/main/Clases/02_analisis_datos.ipynb\" target=\"_parent\"><img src=\"https://colab.research.google.com/assets/colab-badge.svg\" alt=\"Open In Colab\"/></a>"
      ]
    },
    {
      "cell_type": "markdown",
      "metadata": {},
      "source": [
        "# Agenda de la Clase\n",
        "\n",
        "## Funciones y librerías\n",
        "\n",
        "### 1. Uso de Bibliotecas en Python\n",
        "- **a)** Uso de Pandas\n",
        "- **b)** Análisis de datos básico\n",
        "- **c)** Análisis de datos de redes sociales\n"
      ]
    },
    {
      "cell_type": "markdown",
      "metadata": {},
      "source": [
        "<hr style=\"border-top: 3px double #333; color: #333; overflow: visible; text-align: center; height: 5px;\">"
      ]
    },
    {
      "cell_type": "markdown",
      "metadata": {},
      "source": [
        "## ¿Qué es una librería en Python?\n",
        "\n",
        "Una librería en Python es un conjunto de módulos y funciones que pueden ser reutilizados en múltiples programas. Estas librerías facilitan el desarrollo de software al proporcionar herramientas ya implementadas para realizar tareas comunes. Puedes pensar en una librería como una colección de libros donde cada libro (módulo) contiene capítulos (funciones y clases) que tratan sobre un tema específico.\n",
        "\n",
        "### ¿Cómo usar una librería en Python?\n",
        "\n",
        "Para usar una librería en Python, primero debes instalarla (si no está incluida en la biblioteca estándar de Python). Esto se hace generalmente con el gestor de paquetes `pip`. Una vez instalada, puedes importarla en tu script y comenzar a usar sus funciones y clases.\n",
        "\n",
        "### Ejemplo de uso:\n",
        "\n",
        "1. **Instalación** (desde la línea de comandos):\n",
        "   ```bash\n",
        "   pip install nombre_de_la_libreria\n"
      ]
    },
    {
      "cell_type": "markdown",
      "metadata": {},
      "source": [
        "2. **Importación y uso** (en tu script Python):\n"
      ]
    },
    {
      "cell_type": "markdown",
      "metadata": {},
      "source": [
        "   ```Python \n",
        "import nombre_de_la_libreria\n",
        "\n",
        "# Usar una función de la librería\n",
        "resultado = nombre_de_la_libreria.algun_metodo()\n"
      ]
    },
    {
      "cell_type": "markdown",
      "metadata": {},
      "source": [
        "## Explicación del uso de Pandas\n",
        "\n",
        "Pandas es una de las librerías más populares en Python para el análisis y manipulación de datos. Proporciona estructuras de datos fáciles de usar y herramientas para análisis de datos.\n",
        "\n",
        "### Instalación de Pandas\n",
        "Puedes instalar Pandas usando pip:\n",
        "\n",
        "```bach\n",
        "pip install pandas\n"
      ]
    },
    {
      "cell_type": "markdown",
      "metadata": {},
      "source": [
        "### Conceptos básicos de Pandas\n",
        "\n",
        "1. **Series:** Una Serie es una estructura de datos unidimensional similar a un array. Puede almacenar cualquier tipo de datos (enteros, cadenas, flotantes, etc.).\n",
        "\n",
        "```Python\n",
        "import pandas as pd\n",
        "\n",
        "# Crear una Serie\n",
        "s = pd.Series([1, 3, 5, np.nan, 6, 8])\n",
        "print(s)\n"
      ]
    },
    {
      "cell_type": "markdown",
      "metadata": {},
      "source": [
        "2. **DataFrame:** Un DataFrame es una estructura de datos bidimensional con etiquetas. Puede considerarse como una hoja de cálculo o una tabla SQL.\n",
        "\n",
        "```Python \n",
        "# Crear un DataFrame\n",
        "data = {'Nombre': ['Ana', 'Juan', 'Pedro', 'Luis'],\n",
        "        'Edad': [28, 34, 29, 40]}\n",
        "df = pd.DataFrame(data)\n",
        "print(df)\n"
      ]
    },
    {
      "cell_type": "markdown",
      "metadata": {},
      "source": [
        "## Operaciones comunes con Pandas\n",
        "\n",
        "1. **Lectura de datos:** Pandas puede leer datos de diferentes fuentes, como archivos CSV, Excel, SQL, etc.\n",
        "\n",
        "```Python\n",
        "# Leer datos desde un archivo CSV\n",
        "df = pd.read_csv('data.csv')\n"
      ]
    },
    {
      "cell_type": "markdown",
      "metadata": {},
      "source": [
        "2. **Exploración de datos:** Puedes ver las primeras y últimas filas de un DataFrame usando *'head()'* y *'tail()'*, respectivamente.\n",
        "\n",
        "```Python\n",
        "\n",
        "print(df.head())\n",
        "print(df.tail())\n"
      ]
    },
    {
      "cell_type": "markdown",
      "metadata": {},
      "source": [
        "3. **Selección de datos:** Puedes seleccionar una columna específica o un subconjunto de datos.\n",
        "\n",
        "```Python\n",
        "# Seleccionar una columna\n",
        "edades = df['Edad']\n",
        "\n",
        "# Seleccionar filas por índice\n",
        "filas_seleccionadas = df[0:2]\n"
      ]
    },
    {
      "cell_type": "markdown",
      "metadata": {},
      "source": [
        "4. **Operaciones aritméticas:** Puedes realizar operaciones aritméticas en las columnas del DataFrame.\n",
        "\n",
        "```Python\n",
        "# Añadir una nueva columna calculada\n",
        "df['Edad_Doble'] = df['Edad'] * 2\n"
      ]
    },
    {
      "cell_type": "markdown",
      "metadata": {},
      "source": [
        "5. **Filtrado de datos:** Puedes filtrar datos basados en condiciones.\n",
        "\n",
        "```Python\n",
        "# Filtrar datos\n",
        "mayores_de_30 = df[df['Edad'] > 30]\n"
      ]
    },
    {
      "cell_type": "markdown",
      "metadata": {},
      "source": [
        "6. **Agrupación de datos:** Puedes agrupar datos y realizar operaciones de agregación.\n",
        "\n",
        "```Python\n",
        "# Agrupar por una columna y calcular la media\n",
        "grupo_por_edad = df.groupby('Edad').mean()\n"
      ]
    }
  ],
  "metadata": {
    "colab": {
      "provenance": []
    },
    "kernelspec": {
      "display_name": "Python 3",
      "name": "python3"
    },
    "language_info": {
      "name": "python"
    }
  },
  "nbformat": 4,
  "nbformat_minor": 0
}
