{
  "cells": [
    {
      "cell_type": "markdown",
      "metadata": {
        "id": "view-in-github"
      },
      "source": [
        "<a href=\"https://colab.research.google.com/github/davidlealo/mujeresbigdatajun23coquimbo/blob/main/clase5variablesestructurascontrol.ipynb\" target=\"_parent\"><img src=\"https://colab.research.google.com/assets/colab-badge.svg\" alt=\"Open In Colab\"/></a>"
      ]
    },
    {
      "cell_type": "markdown",
      "metadata": {},
      "source": [
        "# Agenda de la Clase\n",
        "\n",
        "## Herramientas\n",
        "\n",
        "### 1. Git y GitHub\n",
        "- **a)** Control de versiones\n",
        "- **b)** Comandos básicos\n",
        "- **c)** Git Ignore\n",
        "- **d)** Uso en IDE\n",
        "\n",
        "### 2. Uso de Google Colab\n",
        "- **a)** Cuenta y configuración\n",
        "- **b)** Usos básicos\n",
        "\n",
        "### 3. Primeros Pasos con Python\n",
        "- **a)** Variables\n",
        "- **b)** Estructuras de control\n",
        "\n",
        "### 4. Uso de Bibliotecas en Python\n",
        "- **a)** Uso de Pandas\n",
        "- **b)** Análisis de datos básico\n"
      ]
    },
    {
      "cell_type": "markdown",
      "metadata": {},
      "source": [
        "<hr style=\"border-top: 3px double #333; color: #333; overflow: visible; text-align: center; height: 5px;\">"
      ]
    },
    {
      "cell_type": "markdown",
      "metadata": {},
      "source": [
        "# Introducción a Git y GitHub\n",
        "\n",
        "## 1. ¿Qué es Git?\n",
        "\n",
        "Git es un sistema de control de versiones distribuido que permite a los desarrolladores gestionar y rastrear cambios en el código fuente a lo largo del tiempo.\n",
        "\n",
        "## 2. Instalación de Git\n",
        "\n",
        "Para instalar Git, sigue las instrucciones de [este enlace](https://git-scm.com/book/en/v2/Getting-Started-Installing-Git).\n",
        "\n",
        "## 3. Comandos Básicos de Git\n",
        "\n",
        "### Inicializar un Repositorio\n",
        "```sh\n",
        "git init\n"
      ]
    },
    {
      "cell_type": "markdown",
      "metadata": {},
      "source": [
        "### Clonar un Repositorio\n",
        "```sh\n",
        "git clone https://github.com/usuario/repositorio.git\n"
      ]
    },
    {
      "cell_type": "markdown",
      "metadata": {},
      "source": [
        "### Ver el Estado de los Cambios\n",
        "\n",
        "```sh\n",
        "git status"
      ]
    },
    {
      "cell_type": "markdown",
      "metadata": {},
      "source": [
        "### Añadir Archivos al Área de Preparación\n",
        "\n",
        "\n",
        "```sh\n",
        "git add archivo.txt\n"
      ]
    },
    {
      "cell_type": "markdown",
      "metadata": {},
      "source": [
        "### Guardar los Cambios en el Repositorio Local\n",
        "\n",
        "\n",
        "```sh\n",
        "git commit -m \"Mensaje de commit\"\n"
      ]
    },
    {
      "cell_type": "markdown",
      "metadata": {},
      "source": [
        "### Subir los Cambios al Repositorio Remoto\n",
        "\n",
        "```sh\n",
        "git push origin main\n"
      ]
    },
    {
      "cell_type": "markdown",
      "metadata": {},
      "source": [
        "### Descargar los Cambios del Repositorio Remoto\n",
        "\n",
        "```sh\n",
        "git pull origin main\n"
      ]
    },
    {
      "cell_type": "markdown",
      "metadata": {},
      "source": [
        "### Gestionar Ramas\n",
        "\n",
        "```sh\n",
        "git branch"
      ]
    },
    {
      "cell_type": "markdown",
      "metadata": {},
      "source": [
        "### Fusionar Ramas\n",
        "\n",
        "```sh\n",
        "git merge rama\n"
      ]
    },
    {
      "cell_type": "markdown",
      "metadata": {},
      "source": [
        "<hr style=\"border-top: 3px double #333; color: #333; overflow: visible; text-align: center; height: 5px;\">"
      ]
    },
    {
      "cell_type": "markdown",
      "metadata": {},
      "source": [
        "## ¿Qué es GitHub?\n",
        "\n",
        "GitHub es una plataforma de desarrollo colaborativo que utiliza Git para el control de versiones. Permite a los desarrolladores trabajar en proyectos de manera conjunta, compartir código, realizar seguimiento de cambios, y mucho más.\n",
        "\n",
        "### Crear una Cuenta en GitHub\n",
        "\n",
        "Para crear una cuenta en GitHub:\n",
        "1. Ve a [github.com](https://github.com).\n",
        "2. Haz clic en \"Sign up\" en la esquina superior derecha.\n",
        "3. Sigue las instrucciones para crear una nueva cuenta.\n",
        "\n",
        "### Crear un Repositorio en GitHub\n",
        "\n",
        "1. Inicia sesión en tu cuenta de GitHub.\n",
        "2. Haz clic en el botón \"New\" o \"Create repository\" en la esquina superior derecha.\n",
        "3. Completa los detalles del repositorio:\n",
        "    - Nombre del repositorio.\n",
        "    - Descripción (opcional).\n",
        "    - Configuración de visibilidad (público o privado).\n",
        "4. Haz clic en \"Create repository\".\n",
        "\n",
        "### Clonar un Repositorio desde GitHub\n",
        "\n",
        "Para clonar un repositorio existente desde GitHub a tu máquina local:\n",
        "1. Ve al repositorio que quieres clonar.\n",
        "2. Haz clic en el botón \"Code\" y copia la URL del repositorio.\n",
        "3. En tu terminal, ejecuta:\n",
        "    ```sh\n",
        "    git clone https://github.com/usuario/repositorio.git\n",
        "    ```\n",
        "\n",
        "### Subir Cambios a GitHub\n",
        "\n",
        "Para subir cambios de tu repositorio local a GitHub:\n",
        "1. Asegúrate de que los cambios estén comprometidos:\n",
        "    ```sh\n",
        "    git commit -m \"Mensaje de commit\"\n",
        "    ```\n",
        "2. Configura el repositorio remoto (solo la primera vez):\n",
        "    ```sh\n",
        "    git remote add origin https://github.com/usuario/repositorio.git\n",
        "    ```\n",
        "3. Sube los cambios:\n",
        "    ```sh\n",
        "    git push origin main\n",
        "    ```\n",
        "\n",
        "### Sincronizar Cambios desde GitHub\n",
        "\n",
        "Para descargar los cambios del repositorio remoto a tu máquina local:\n",
        "```sh\n",
        "git pull origin main\n"
      ]
    },
    {
      "cell_type": "markdown",
      "metadata": {},
      "source": [
        "<hr style=\"border-top: 3px double #333; color: #333; overflow: visible; text-align: center; height: 5px;\">"
      ]
    },
    {
      "cell_type": "markdown",
      "metadata": {},
      "source": [
        "# Uso de `.gitignore` en Git\n",
        "\n",
        "El archivo `.gitignore` se utiliza para decirle a Git qué archivos o directorios deben ser ignorados y no incluidos en el control de versiones. Esto es útil para excluir archivos temporales, configuraciones locales, dependencias, entre otros, que no deben ser compartidos con otros colaboradores del proyecto.\n",
        "\n",
        "## 1. Crear un Archivo `.gitignore`\n",
        "\n",
        "Para crear un archivo `.gitignore`, sigue estos pasos:\n",
        "1. En el directorio raíz de tu repositorio, crea un nuevo archivo llamado `.gitignore`.\n",
        "2. Abre el archivo con tu editor de texto o IDE favorito.\n",
        "\n",
        "## 2. Sintaxis Básica de `.gitignore`\n",
        "\n",
        "La sintaxis básica para definir qué archivos o directorios ignorar es muy simple:\n",
        "- **Comentarios:** Cualquier línea que comience con `#` será tratada como un comentario.\n",
        "- **Rutas de archivos:** Puedes especificar rutas relativas de los archivos o directorios a ignorar.\n",
        "- **Comodines:** Se pueden usar comodines (`*`, `?`, `[seq]`) para patrones más avanzados.\n",
        "\n",
        "### Ejemplos:\n",
        "\n",
        "- Ignorar todos los archivos `.log`:\n",
        "  ```plaintext\n",
        "  *.log\n"
      ]
    },
    {
      "cell_type": "markdown",
      "metadata": {},
      "source": [
        "<hr style=\"border-top: 3px double #333; color: #333; overflow: visible; text-align: center; height: 5px;\">"
      ]
    },
    {
      "cell_type": "markdown",
      "metadata": {},
      "source": [
        "# Cómo Usar Google Colab\n",
        "\n",
        "Google Colab es una herramienta gratuita que permite escribir y ejecutar código en Python directamente en el navegador, con recursos de computación en la nube proporcionados por Google.\n",
        "\n",
        "## 1. Crear una Cuenta y Configuración Inicial\n",
        "\n",
        "### Crear una Cuenta de Google\n",
        "Para usar Google Colab, necesitas una cuenta de Google. Si no tienes una, puedes crearla en [accounts.google.com](https://accounts.google.com).\n",
        "\n",
        "### Acceder a Google Colab\n",
        "1. Ve a [colab.research.google.com](https://colab.research.google.com).\n",
        "2. Inicia sesión con tu cuenta de Google.\n",
        "3. Puedes empezar con un nuevo notebook o abrir uno existente desde Google Drive, GitHub, o subiendo un archivo `.ipynb`.\n",
        "\n",
        "## 2. Usos Básicos de Google Colab\n",
        "\n",
        "### Crear y Ejecutar Notebooks\n",
        "- **Crear un nuevo notebook:**\n",
        "  - Haz clic en \"File\" > \"New notebook\".\n",
        "  - Se abrirá un nuevo notebook con una celda de código vacía.\n",
        "  \n",
        "- **Escribir y ejecutar código:**\n",
        "  - Escribe tu código en la celda.\n",
        "  - Presiona `Shift + Enter` para ejecutar la celda.\n",
        "  - Los resultados se mostrarán directamente debajo de la celda.\n",
        "\n",
        "### Guardar y Compartir Notebooks\n",
        "- **Guardar en Google Drive:**\n",
        "  - El notebook se guarda automáticamente en tu Google Drive.\n",
        "  - Puedes acceder a tus notebooks guardados en `drive.google.com` bajo la carpeta \"Colab Notebooks\".\n",
        "\n",
        "- **Compartir un notebook:**\n",
        "  - Haz clic en \"Share\" en la esquina superior derecha.\n",
        "  - Ajusta los permisos de acceso y comparte el enlace con otros.\n",
        "\n",
        "### Conectar Google Drive a Google Colab\n",
        "- Puedes montar tu Google Drive en Colab para acceder a tus archivos directamente.\n",
        "  - Ejecuta el siguiente código en una celda:\n",
        "    ```python\n",
        "    from google.colab import drive\n",
        "    drive.mount('/content/drive')\n",
        "    ```\n",
        "  - Sigue las instrucciones para autorizar el acceso.\n",
        "\n",
        "### Instalación de Bibliotecas\n",
        "- Puedes instalar bibliotecas de Python directamente desde el notebook usando `pip`.\n",
        "  - Por ejemplo, para instalar Pandas, ejecuta:\n",
        "    ```python\n",
        "    !pip install pandas\n",
        "    ```\n",
        "\n",
        "## 3. Consejos Adicionales\n",
        "\n",
        "- **Documenta tu código:**\n",
        "  - Usa celdas de texto (Markdown) para documentar tu código y agregar explicaciones.\n",
        "  - Para agregar una celda de texto, haz clic en el botón `+ Text` en la barra de herramientas.\n",
        "\n",
        "- **Usa GPU/TPU:**\n",
        "  - Para tareas de aprendizaje profundo, puedes usar GPU o TPU.\n",
        "  - Ve a \"Runtime\" > \"Change runtime type\" y selecciona \"GPU\" o \"TPU\".\n",
        "\n",
        "Google Colab es una herramienta poderosa y fácil de usar para desarrollar y compartir proyectos en Python, especialmente para análisis de datos y aprendizaje automático.\n"
      ]
    },
    {
      "cell_type": "markdown",
      "metadata": {},
      "source": [
        "<hr style=\"border-top: 3px double #333; color: #333; overflow: visible; text-align: center; height: 5px;\">"
      ]
    },
    {
      "cell_type": "markdown",
      "metadata": {
        "id": "V9iH8Py4wrWv"
      },
      "source": [
        "# Variables\n",
        "En Python, las variables son contenedores que se utilizan para almacenar valores. Estos valores pueden ser de diferentes tipos de datos, como números, cadenas de texto, listas, diccionarios, entre otros.\n",
        "\n",
        "Las variables en Python se crean asignándoles un nombre y un valor. El nombre de la variable es el identificador que se utilizará para acceder a su valor en el código. A continuación, se muestra un ejemplo de cómo se pueden crear y utilizar variables en Python:\n",
        "\n",
        "```python\n",
        "# Creación de variables\n",
        "nombre = \"Juan\"\n",
        "edad = 25\n",
        "pi = 3.14159\n",
        "\n",
        "# Uso de variables\n",
        "print(\"Hola, mi nombre es\", nombre)\n",
        "print(\"Tengo\", edad, \"años\")\n",
        "print(\"El valor de pi es\", pi)\n",
        "```\n",
        "\n",
        "En el ejemplo anterior, se crearon tres variables: `nombre`, `edad` y `pi`. Estas variables almacenaron un nombre, un número entero y un número decimal, respectivamente. Luego, se imprimieron los valores de las variables utilizando la función `print()`.\n",
        "\n",
        "Es importante destacar que en Python, las variables son dinámicamente tipadas, lo que significa que no es necesario declarar explícitamente el tipo de datos que almacenarán. El tipo de datos se infiere automáticamente según el valor asignado a la variable. Además, las variables pueden cambiar de valor durante la ejecución del programa."
      ]
    },
    {
      "cell_type": "markdown",
      "metadata": {
        "id": "D3dcfyaqw3XG"
      },
      "source": [
        "# Tipos de valores en variables\n",
        "En Python, existen varios tipos de valores que se pueden almacenar en variables. Algunos de los tipos de valores más comunes son:\n",
        "\n",
        "1. Números enteros (int): Representan valores numéricos enteros sin decimales. Ejemplos: 1, 100, -5.\n",
        "\n",
        "2. Números de punto flotante (float): Representan valores numéricos con decimales. Ejemplos: 3.14, -0.5, 2.0.\n",
        "\n",
        "3. Cadena de texto (str): Representan secuencias de caracteres entre comillas simples ('') o dobles (\"\"). Ejemplos: \"Hola\", 'Mundo', \"123\".\n",
        "\n",
        "4. Booleanos (bool): Representan valores de verdadero (True) o falso (False) utilizados en expresiones lógicas y de control de flujo.\n",
        "\n",
        "5. Listas (list): Representan colecciones ordenadas y mutables de elementos. Se definen entre corchetes ([]). Ejemplo: [1, 2, 3, 4].\n",
        "\n",
        "6. Tuplas (tuple): Representan colecciones ordenadas e inmutables de elementos. Se definen entre paréntesis (()). Ejemplo: (1, 2, 3, 4).\n",
        "\n",
        "7. Diccionarios (dict): Representan colecciones de pares clave-valor. Se definen entre llaves ({}) y cada elemento se separa por comas. Ejemplo: {\"nombre\": \"Juan\", \"edad\": 25}.\n",
        "\n",
        "8. Conjuntos (set): Representan colecciones no ordenadas y sin elementos duplicados. Se definen entre llaves ({}) o utilizando la función `set()`. Ejemplo: {1, 2, 3}.\n",
        "\n",
        "Estos son solo algunos de los tipos de valores más comunes en Python. Además, Python es un lenguaje flexible que permite crear estructuras de datos personalizadas y utilizar bibliotecas para trabajar con tipos de datos más especializados, como fechas, horas, matrices, entre otros."
      ]
    },
    {
      "cell_type": "markdown",
      "metadata": {
        "id": "PhjgC-_6xCV0"
      },
      "source": [
        "# Estructuras de control\n",
        "En Python, existen varias estructuras de control que permiten controlar el flujo de ejecución de un programa. Estas estructuras de control incluyen:\n",
        "\n",
        "1. Estructura condicional (if-else): Permite ejecutar un bloque de código si se cumple una condición determinada. Si la condición no se cumple, se puede ejecutar un bloque alternativo utilizando el \"else\". Ejemplo:\n",
        "\n",
        "```python\n",
        "if edad >= 18:\n",
        "    print(\"Eres mayor de edad\")\n",
        "else:\n",
        "    print(\"Eres menor de edad\")\n",
        "```\n",
        "\n",
        "2. Estructura de repetición (bucle) \"while\": Ejecuta repetidamente un bloque de código siempre que se cumpla una condición determinada. La condición se verifica antes de cada iteración. Ejemplo:\n",
        "\n",
        "```python\n",
        "contador = 0\n",
        "while contador < 5:\n",
        "    print(\"El contador es:\", contador)\n",
        "    contador += 1\n",
        "```\n",
        "\n",
        "3. Estructura de repetición (bucle) \"for\": Permite iterar sobre una secuencia (como una lista, tupla o cadena) y ejecutar un bloque de código para cada elemento de la secuencia. Ejemplo:\n",
        "\n",
        "```python\n",
        "frutas = [\"manzana\", \"banana\", \"naranja\"]\n",
        "for fruta in frutas:\n",
        "    print(\"Me gusta comer\", fruta)\n",
        "```\n",
        "\n",
        "4. Estructura de control \"break\": Permite salir de un bucle de forma prematura si se cumple una condición determinada. Ejemplo:\n",
        "\n",
        "```python\n",
        "i = 0\n",
        "while i < 10:\n",
        "    print(i)\n",
        "    if i == 5:\n",
        "        break\n",
        "    i += 1\n",
        "```\n",
        "\n",
        "5. Estructura de control \"continue\": Permite saltar a la siguiente iteración de un bucle sin ejecutar el resto del bloque de código, si se cumple una condición determinada. Ejemplo:\n",
        "\n",
        "```python\n",
        "for i in range(10):\n",
        "    if i % 2 == 0:\n",
        "        continue\n",
        "    print(i)\n",
        "```\n",
        "\n",
        "Estas son algunas de las estructuras de control más utilizadas en Python. Además, Python también permite anidar estructuras de control, lo que significa que se pueden colocar estructuras dentro de otras estructuras para lograr un control de flujo más complejo."
      ]
    },
    {
      "cell_type": "markdown",
      "metadata": {
        "id": "OOipAMkexeH9"
      },
      "source": [
        "# Función lambda\n",
        "La función lambda en Python es una función anónima y de una sola línea. A diferencia de las funciones normales definidas con la palabra clave `def`, las funciones lambda no requieren un nombre y se utilizan para crear funciones pequeñas y simples de forma más concisa.\n",
        "\n",
        "La sintaxis básica de una función lambda es la siguiente:\n",
        "\n",
        "```python\n",
        "lambda argumentos: expresión\n",
        "```\n",
        "\n",
        "Aquí, \"argumentos\" son los parámetros de la función, y \"expresión\" es el código que se ejecuta y devuelve un resultado.\n",
        "\n",
        "Las funciones lambda son útiles cuando se necesita una función rápida y no es necesario definirla de manera formal. Se pueden usar en combinación con otras funciones como `map()`, `filter()`, `reduce()`, entre otros, para realizar operaciones en colecciones de datos.\n",
        "\n",
        "Aquí tienes un ejemplo sencillo de una función lambda que suma dos números:\n",
        "\n",
        "```python\n",
        "suma = lambda a, b: a + b\n",
        "resultado = suma(2, 3)\n",
        "print(resultado)  # Imprime: 5\n",
        "```\n",
        "\n",
        "En este caso, la función lambda `suma` toma dos argumentos `a` y `b` y devuelve la suma de ellos. Luego, se llama a la función `suma` con los valores 2 y 3, y el resultado se imprime en pantalla.\n",
        "\n",
        "Las funciones lambda son especialmente útiles cuando se requieren funciones simples y se usan de manera puntual, evitando la necesidad de definir una función completa con `def`."
      ]
    },
    {
      "cell_type": "markdown",
      "metadata": {
        "id": "pXasDiWpxnkX"
      },
      "source": [
        "# Tarea\n",
        "\n",
        "¡Bienvenidos al simulador de cajero automático!\n",
        "\n",
        "Por favor, introduzca su número de cuenta para continuar: [input de número de cuenta]\n",
        "\n",
        "Estimado estudiante, este cajero automático es capaz de realizar diferentes operaciones. Por favor, seleccione la opción deseada:\n",
        "\n",
        "1. Consultar saldo\n",
        "2. Retirar dinero\n",
        "3. Depositar dinero\n",
        "4. Transferir dinero a otra cuenta\n",
        "\n",
        "Por favor, ingrese el número correspondiente a la opción elegida: [input de opción]\n",
        "\n",
        "A continuación, se le solicitarán algunos datos adicionales según la opción seleccionada.\n",
        "\n",
        "1. Consultar saldo:\n",
        "   ¡Su saldo actual es de $5000! ¡Gracias por consultar!\n",
        "\n",
        "2. Retirar dinero:\n",
        "   Por favor, ingrese la cantidad a retirar: [input de cantidad]\n",
        "   ¡Retiro exitoso! Ha retirado $1000. Su saldo actual es de $4000.\n",
        "\n",
        "3. Depositar dinero:\n",
        "   Por favor, ingrese la cantidad a depositar: [input de cantidad]\n",
        "   ¡Depósito exitoso! Ha depositado $2000. Su saldo actual es de $7000.\n",
        "\n",
        "4. Transferir dinero a otra cuenta:\n",
        "   Por favor, ingrese el número de cuenta de destino: [input de número de cuenta de destino]\n",
        "   Por favor, ingrese la cantidad a transferir: [input de cantidad]\n",
        "   ¡Transferencia exitosa! Ha transferido $3000 a la cuenta 12345678.\n",
        "\n",
        "¡Gracias por utilizar nuestro simulador de cajero automático! Si desea realizar otra operación, puede seleccionar una nueva opción. En caso contrario, puede finalizar la transacción."
      ]
    },
    {
      "cell_type": "markdown",
      "metadata": {},
      "source": [
        "<hr style=\"border-top: 3px double #333; color: #333; overflow: visible; text-align: center; height: 5px;\">"
      ]
    },
    {
      "cell_type": "markdown",
      "metadata": {},
      "source": [
        "## ¿Qué es una librería en Python?\n",
        "\n",
        "Una librería en Python es un conjunto de módulos y funciones que pueden ser reutilizados en múltiples programas. Estas librerías facilitan el desarrollo de software al proporcionar herramientas ya implementadas para realizar tareas comunes. Puedes pensar en una librería como una colección de libros donde cada libro (módulo) contiene capítulos (funciones y clases) que tratan sobre un tema específico.\n",
        "\n",
        "### ¿Cómo usar una librería en Python?\n",
        "\n",
        "Para usar una librería en Python, primero debes instalarla (si no está incluida en la biblioteca estándar de Python). Esto se hace generalmente con el gestor de paquetes `pip`. Una vez instalada, puedes importarla en tu script y comenzar a usar sus funciones y clases.\n",
        "\n",
        "### Ejemplo de uso:\n",
        "\n",
        "1. **Instalación** (desde la línea de comandos):\n",
        "   ```bash\n",
        "   pip install nombre_de_la_libreria\n"
      ]
    },
    {
      "cell_type": "markdown",
      "metadata": {},
      "source": [
        "2. **Importación y uso** (en tu script Python):\n"
      ]
    },
    {
      "cell_type": "markdown",
      "metadata": {},
      "source": [
        "   ```Python \n",
        "import nombre_de_la_libreria\n",
        "\n",
        "# Usar una función de la librería\n",
        "resultado = nombre_de_la_libreria.algun_metodo()\n"
      ]
    },
    {
      "cell_type": "markdown",
      "metadata": {},
      "source": [
        "## Explicación del uso de Pandas\n",
        "\n",
        "Pandas es una de las librerías más populares en Python para el análisis y manipulación de datos. Proporciona estructuras de datos fáciles de usar y herramientas para análisis de datos.\n",
        "\n",
        "### Instalación de Pandas\n",
        "Puedes instalar Pandas usando pip:\n",
        "\n",
        "```bach\n",
        "pip install pandas\n"
      ]
    },
    {
      "cell_type": "markdown",
      "metadata": {},
      "source": [
        "### Conceptos básicos de Pandas\n",
        "\n",
        "1. **Series:** Una Serie es una estructura de datos unidimensional similar a un array. Puede almacenar cualquier tipo de datos (enteros, cadenas, flotantes, etc.).\n",
        "\n",
        "```Python\n",
        "import pandas as pd\n",
        "\n",
        "# Crear una Serie\n",
        "s = pd.Series([1, 3, 5, np.nan, 6, 8])\n",
        "print(s)\n"
      ]
    },
    {
      "cell_type": "markdown",
      "metadata": {},
      "source": [
        "2. **DataFrame:** Un DataFrame es una estructura de datos bidimensional con etiquetas. Puede considerarse como una hoja de cálculo o una tabla SQL.\n",
        "\n",
        "```Python \n",
        "# Crear un DataFrame\n",
        "data = {'Nombre': ['Ana', 'Juan', 'Pedro', 'Luis'],\n",
        "        'Edad': [28, 34, 29, 40]}\n",
        "df = pd.DataFrame(data)\n",
        "print(df)\n"
      ]
    },
    {
      "cell_type": "markdown",
      "metadata": {},
      "source": [
        "## Operaciones comunes con Pandas\n",
        "\n",
        "1. **Lectura de datos:** Pandas puede leer datos de diferentes fuentes, como archivos CSV, Excel, SQL, etc.\n",
        "\n",
        "```Python\n",
        "# Leer datos desde un archivo CSV\n",
        "df = pd.read_csv('data.csv')\n"
      ]
    },
    {
      "cell_type": "markdown",
      "metadata": {},
      "source": [
        "2. **Exploración de datos:** Puedes ver las primeras y últimas filas de un DataFrame usando *'head()'* y *'tail()'*, respectivamente.\n",
        "\n",
        "```Python\n",
        "\n",
        "print(df.head())\n",
        "print(df.tail())\n"
      ]
    },
    {
      "cell_type": "markdown",
      "metadata": {},
      "source": [
        "3. **Selección de datos:** Puedes seleccionar una columna específica o un subconjunto de datos.\n",
        "\n",
        "```Python\n",
        "# Seleccionar una columna\n",
        "edades = df['Edad']\n",
        "\n",
        "# Seleccionar filas por índice\n",
        "filas_seleccionadas = df[0:2]\n"
      ]
    },
    {
      "cell_type": "markdown",
      "metadata": {},
      "source": [
        "4. **Operaciones aritméticas:** Puedes realizar operaciones aritméticas en las columnas del DataFrame.\n",
        "\n",
        "```Python\n",
        "# Añadir una nueva columna calculada\n",
        "df['Edad_Doble'] = df['Edad'] * 2\n"
      ]
    },
    {
      "cell_type": "markdown",
      "metadata": {},
      "source": [
        "5. **Filtrado de datos:** Puedes filtrar datos basados en condiciones.\n",
        "\n",
        "```Python\n",
        "# Filtrar datos\n",
        "mayores_de_30 = df[df['Edad'] > 30]\n"
      ]
    },
    {
      "cell_type": "markdown",
      "metadata": {},
      "source": [
        "6. **Agrupación de datos:** Puedes agrupar datos y realizar operaciones de agregación.\n",
        "\n",
        "```Python\n",
        "# Agrupar por una columna y calcular la media\n",
        "grupo_por_edad = df.groupby('Edad').mean()\n"
      ]
    }
  ],
  "metadata": {
    "colab": {
      "provenance": []
    },
    "kernelspec": {
      "display_name": "Python 3",
      "name": "python3"
    },
    "language_info": {
      "name": "python"
    }
  },
  "nbformat": 4,
  "nbformat_minor": 0
}
